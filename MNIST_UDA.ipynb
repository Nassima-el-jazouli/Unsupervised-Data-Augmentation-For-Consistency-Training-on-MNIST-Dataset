{
  "cells": [
    {
      "cell_type": "markdown",
      "metadata": {
        "id": "USSV_OlCFKOD"
      },
      "source": [
        "# Laod data and prepare it\n",
        "This simple example demonstrates how to plug TensorFlow Datasets (TFDS) into a Keras model.\n"
      ]
    },
    {
      "cell_type": "code",
      "execution_count": null,
      "metadata": {
        "id": "TTBSvHcSLBzc"
      },
      "outputs": [],
      "source": [
        "import tensorflow as tf\n",
        "import tensorflow_datasets as tfds\n",
        "import numpy as np\n",
        "import matplotlib.pyplot as plt\n",
        "from tensorflow import keras\n",
        "import math\n",
        "import time\n",
        "from tqdm import trange"
      ]
    },
    {
      "cell_type": "code",
      "execution_count": null,
      "metadata": {
        "colab": {
          "base_uri": "https://localhost:8080/"
        },
        "id": "ZUMhCXhFXdHQ",
        "outputId": "f59a9f3f-0c2b-4d45-9fde-edcc43a9624d"
      },
      "outputs": [
        {
          "output_type": "stream",
          "name": "stdout",
          "text": [
            "training dataset: 60000\n",
            "test dataset: 10000\n"
          ]
        }
      ],
      "source": [
        "(x_train, y_train), (x_test, y_test) = tf.keras.datasets.mnist.load_data()\n",
        "\n",
        "# Rescale the images from [0,255] to the [0.0,1.0] range.\n",
        "x_train, x_test = x_train[..., np.newaxis]/255.0, x_test[..., np.newaxis]/255.0\n",
        "\n",
        "print(\"training dataset:\", len(x_train))\n",
        "print(\"test dataset:\", len(x_test))"
      ]
    },
    {
      "cell_type": "code",
      "execution_count": null,
      "metadata": {
        "colab": {
          "base_uri": "https://localhost:8080/",
          "height": 470
        },
        "id": "n_Ws7js48FGI",
        "outputId": "75f560ab-5aa8-4b65-8952-bbe8c4b48079"
      },
      "outputs": [
        {
          "output_type": "stream",
          "name": "stdout",
          "text": [
            "5\n"
          ]
        },
        {
          "output_type": "execute_result",
          "data": {
            "text/plain": [
              "<matplotlib.colorbar.Colorbar at 0x7a6754c5bc40>"
            ]
          },
          "metadata": {},
          "execution_count": 4
        },
        {
          "output_type": "display_data",
          "data": {
            "text/plain": [
              "<Figure size 640x480 with 2 Axes>"
            ],
            "image/png": "[encoded data removed]"
          },
          "metadata": {}
        }
      ],
      "source": [
        "print(y_train[0])\n",
        "\n",
        "plt.imshow(x_train[0, :, :, 0])\n",
        "plt.colorbar()"
      ]
    },
    {
      "cell_type": "code",
      "execution_count": null,
      "metadata": {
        "id": "1rhSpKtEuD6C",
        "colab": {
          "base_uri": "https://localhost:8080/"
        },
        "outputId": "2bb5ea17-abf4-4060-fab0-cfac0ff5f4af"
      },
      "outputs": [
        {
          "output_type": "stream",
          "name": "stderr",
          "text": [
            "<ipython-input-5-a394babc2174>:2: DeprecationWarning: Please use `shift` from the `scipy.ndimage` namespace, the `scipy.ndimage.interpolation` namespace is deprecated.\n",
            "  from scipy.ndimage.interpolation import shift\n"
          ]
        }
      ],
      "source": [
        "# Importation de la fonction shift du module scipy.ndimage.interpolation\n",
        "from scipy.ndimage.interpolation import shift\n",
        "\n",
        "# Définition d'une méthode pour déplacer une image selon les dimensions spécifiées\n",
        "def shift_image(image, dx, dy):\n",
        "    # Remodelage de l'image en une matrice de dimensions 28x28\n",
        "    image = image.reshape((28, 28))\n",
        "\n",
        "    # Appel de la fonction shift pour déplacer l'image selon les paramètres dx et dy\n",
        "    # cval spécifie la valeur à utiliser pour remplir les zones nouvellement créées\n",
        "    # mode spécifie le mode de remplissage pour les zones nouvellement créées (constant dans ce cas)\n",
        "    shifted_image = shift(image, [dy, dx], cval=0, mode=\"constant\")\n",
        "\n",
        "    # Retourne l'image déplacée\n",
        "    return shifted_image\n"
      ]
    },
    {
      "cell_type": "code",
      "execution_count": null,
      "metadata": {
        "id": "18xqJkKTUAh0"
      },
      "outputs": [],
      "source": [
        "# Importation du module NumPy\n",
        "import numpy as np\n",
        "\n",
        "# Création d'un tableau de 100 éléments, initialisés à 1\n",
        "idxs = np.ones(100)\n",
        "\n",
        "# Boucle parcourant les chiffres de 0 à 9\n",
        "for digit in range(10):\n",
        "    # Trouver les indices des occurrences du chiffre dans y_train\n",
        "    digit_args = np.argwhere(y_train == digit)[:10, 0]\n",
        "\n",
        "    # Mélanger aléatoirement les indices obtenus\n",
        "    np.random.shuffle(digit_args)\n",
        "\n",
        "    # Assigner les indices mélangés aux emplacements appropriés dans idxs\n",
        "    idxs[digit * 10:(digit + 1) * 10] = digit_args\n",
        "\n",
        "# Mélanger aléatoirement l'ensemble des indices dans idxs\n",
        "np.random.shuffle(idxs)\n",
        "\n",
        "# Convertir idxs en une liste d'entiers\n",
        "idxs = list(idxs.astype(\"int\"))\n"
      ]
    },
    {
      "cell_type": "code",
      "execution_count": null,
      "metadata": {
        "id": "i7nS0QkEvoML"
      },
      "outputs": [],
      "source": [
        "# Sélection des données d'entraînement étiquetées en utilisant les indices mélangés\n",
        "x_train_labeled = x_train[idxs]\n",
        "y_train_labeled = y_train[idxs]\n",
        "\n",
        "# Suppression des données d'entraînement étiquetées des données d'entraînement originales\n",
        "x_train_unlabeled_original = np.delete(x_train.copy(), idxs, axis=0)\n",
        "\n",
        "# Sélection de la moitié des données d'entraînement non étiquetées originales\n",
        "x_train_unlabeled = x_train_unlabeled_original[:int(x_train_unlabeled_original.shape[0] / 2)]\n",
        "\n",
        "# Création d'un jeu de données augmenté en appliquant une translation aux images non étiquetées sélectionnées\n",
        "x_train_augmented = []\n",
        "for image in x_train_unlabeled:\n",
        "    # Ajout de la version déplacée de l'image à la liste augmentée\n",
        "    x_train_augmented.append(np.expand_dims(shift_image(image, 3, 3), axis=-1))\n",
        "\n",
        "# Conversion de la liste augmentée en un tableau NumPy\n",
        "x_train_augmented = np.array(x_train_augmented)\n"
      ]
    },
    {
      "cell_type": "markdown",
      "metadata": {
        "id": "SwtyPq4_0De9"
      },
      "source": [
        "## Seperate the unlabeled images into original and augmeneted images"
      ]
    },
    {
      "cell_type": "code",
      "execution_count": null,
      "metadata": {
        "id": "YKigGgCD7z-_"
      },
      "outputs": [],
      "source": [
        "# Initialisation d'un dictionnaire pour stocker les indices associés à chaque chiffre\n",
        "digit_idxs = {}\n",
        "\n",
        "# Boucle parcourant les chiffres de 0 à 9\n",
        "for digit in range(10):\n",
        "    # Trouver les indices des occurrences du chiffre dans y_train\n",
        "    digit_args = np.argwhere(y_train == digit)[:, 0]\n",
        "\n",
        "    # Mélanger aléatoirement les indices obtenus\n",
        "    np.random.shuffle(digit_args)\n",
        "\n",
        "    # Stocker les indices mélangés dans le dictionnaire digit_idxs\n",
        "    digit_idxs[digit] = list(digit_args.astype('int'))\n"
      ]
    },
    {
      "cell_type": "code",
      "execution_count": null,
      "metadata": {
        "colab": {
          "base_uri": "https://localhost:8080/"
        },
        "id": "AiCgcetk8fIT",
        "outputId": "b60612c2-82d8-4a5a-c165-f1713278e5de"
      },
      "outputs": [
        {
          "output_type": "execute_result",
          "data": {
            "text/plain": [
              "2710"
            ]
          },
          "metadata": {},
          "execution_count": 11
        }
      ],
      "source": [
        "# Calcul du nombre minimal d'éléments par classe, en prenant la moitié du nombre minimum d'indices parmi toutes les classes\n",
        "elt_per_class = int(min([len(idxs) for idxs in digit_idxs.values()]) / 2)\n",
        "\n",
        "# Affichage du nombre d'éléments par classe\n",
        "elt_per_class"
      ]
    },
    {
      "cell_type": "code",
      "execution_count": null,
      "metadata": {
        "id": "9qT0_vqG9gqV"
      },
      "outputs": [],
      "source": [
        "# Initialisation de deux dictionnaires pour stocker les données et les étiquettes associées à chaque chiffre\n",
        "digit_data = {}\n",
        "digit_label = {}\n",
        "\n",
        "# Boucle parcourant les chiffres uniques dans y_train\n",
        "for digit in np.unique(y_train):\n",
        "    # Séparation des indices pour obtenir deux groupes d'indices par classe\n",
        "    indices_1 = digit_idxs[digit][:elt_per_class]\n",
        "    indices_2 = digit_idxs[digit][elt_per_class:elt_per_class * 2]\n",
        "\n",
        "    # Stockage des données associées à chaque chiffre dans digit_data\n",
        "    digit_data[digit] = (x_train[indices_1], x_train[indices_2])\n",
        "\n",
        "    # Stockage des étiquettes associées à chaque chiffre dans digit_label\n",
        "    digit_label[digit] = (y_train[indices_1], y_train[indices_2])\n"
      ]
    },
    {
      "cell_type": "code",
      "execution_count": null,
      "metadata": {
        "id": "ZaWtgfQZ_E5M"
      },
      "outputs": [],
      "source": [
        "# Initialisation des variables original_data et original_labels\n",
        "original_data = None\n",
        "original_labels = None\n",
        "\n",
        "# Boucle parcourant les chiffres uniques dans y_train\n",
        "for digit in np.unique(y_train):\n",
        "    # Si c'est la première itération, assigner les données et les étiquettes correspondantes\n",
        "    if original_data is None:\n",
        "        original_data = digit_data[digit][0]\n",
        "        original_labels = digit_label[digit][0]\n",
        "    else:\n",
        "        # Pour les itérations suivantes, concaténer les données et les étiquettes aux valeurs existantes\n",
        "        original_data = np.concatenate((original_data, digit_data[digit][0]))\n",
        "        original_labels = np.concatenate((original_labels, digit_label[digit][0]))\n"
      ]
    },
    {
      "cell_type": "code",
      "execution_count": null,
      "metadata": {
        "id": "nR0cJDbnAxs_"
      },
      "outputs": [],
      "source": [
        "# Initialisation des variables augmented_data et augmented_labels\n",
        "augmented_data = None\n",
        "augmented_labels = None\n",
        "\n",
        "# Boucle parcourant les chiffres uniques dans y_train\n",
        "for digit in np.unique(y_train):\n",
        "    # Si c'est la première itération, assigner les données augmentées et les étiquettes correspondantes\n",
        "    if augmented_data is None:\n",
        "        augmented_data = digit_data[digit][1]\n",
        "        augmented_labels = digit_label[digit][1]\n",
        "    else:\n",
        "        # Pour les itérations suivantes, concaténer les données augmentées et les étiquettes aux valeurs existantes\n",
        "        augmented_data = np.concatenate((augmented_data, digit_data[digit][1]))\n",
        "        augmented_labels = np.concatenate((augmented_labels, digit_label[digit][1]))\n"
      ]
    },
    {
      "cell_type": "code",
      "execution_count": null,
      "metadata": {
        "id": "YDvlNdtuBvkn"
      },
      "outputs": [],
      "source": [
        "# Génération d'une permutation aléatoire des indices pour réorganiser les données\n",
        "permutation = np.random.permutation(original_data.shape[0])\n",
        "\n",
        "# Application de la permutation aux données et étiquettes originales et augmentées\n",
        "augmented_data, original_data, augmented_labels, original_labels = augmented_data[permutation], \\\n",
        "original_data[permutation], augmented_labels[permutation], original_labels[permutation]\n"
      ]
    },
    {
      "cell_type": "code",
      "execution_count": null,
      "metadata": {
        "id": "niiyeDsDA2jH"
      },
      "outputs": [],
      "source": [
        "# Comparaison élément par élément des étiquettes augmentées et originales\n",
        "comparison_result = np.equal(augmented_labels, original_labels)\n",
        "\n",
        "# Recherche des valeurs uniques dans le tableau de comparaisons\n",
        "unique_values = np.unique(comparison_result)\n"
      ]
    },
    {
      "cell_type": "code",
      "execution_count": null,
      "metadata": {
        "colab": {
          "base_uri": "https://localhost:8080/"
        },
        "id": "4ZUKNoFt5rzZ",
        "outputId": "ef7c17f0-d828-4010-f034-3a3a39f2296a"
      },
      "outputs": [
        {
          "output_type": "execute_result",
          "data": {
            "text/plain": [
              "(27100, 28, 28, 1)"
            ]
          },
          "metadata": {},
          "execution_count": 17
        }
      ],
      "source": [
        "augmented_data.shape"
      ]
    },
    {
      "cell_type": "code",
      "execution_count": null,
      "metadata": {
        "colab": {
          "base_uri": "https://localhost:8080/"
        },
        "id": "WPIlp8pt5uNa",
        "outputId": "b6d65b3b-55d9-454c-d993-3777dcfd160c"
      },
      "outputs": [
        {
          "output_type": "execute_result",
          "data": {
            "text/plain": [
              "(27100, 28, 28, 1)"
            ]
          },
          "metadata": {},
          "execution_count": 18
        }
      ],
      "source": [
        "original_data.shape"
      ]
    },
    {
      "cell_type": "code",
      "execution_count": null,
      "metadata": {
        "colab": {
          "base_uri": "https://localhost:8080/",
          "height": 465
        },
        "id": "J4mLEfhOPliJ",
        "outputId": "32f2a973-bc78-43bf-e824-10759e3e467f"
      },
      "outputs": [
        {
          "output_type": "stream",
          "name": "stdout",
          "text": [
            "9\n"
          ]
        },
        {
          "output_type": "execute_result",
          "data": {
            "text/plain": [
              "<matplotlib.image.AxesImage at 0x7a6754b57820>"
            ]
          },
          "metadata": {},
          "execution_count": 19
        },
        {
          "output_type": "display_data",
          "data": {
            "text/plain": [
              "<Figure size 640x480 with 1 Axes>"
            ],
            "image/png": "[encoded data removed]"
          },
          "metadata": {}
        }
      ],
      "source": [
        "print(augmented_labels[0])\n",
        "\n",
        "plt.imshow(augmented_data[0, :, :, 0])\n"
      ]
    },
    {
      "cell_type": "code",
      "execution_count": null,
      "metadata": {
        "colab": {
          "base_uri": "https://localhost:8080/",
          "height": 447
        },
        "id": "p9E9qXEo6AW6",
        "outputId": "22f69488-678b-492c-f53c-a3ce2187b632"
      },
      "outputs": [
        {
          "output_type": "execute_result",
          "data": {
            "text/plain": [
              "<matplotlib.image.AxesImage at 0x7a67528f4070>"
            ]
          },
          "metadata": {},
          "execution_count": 20
        },
        {
          "output_type": "display_data",
          "data": {
            "text/plain": [
              "<Figure size 640x480 with 1 Axes>"
            ],
            "image/png": "[encoded data removed]"
          },
          "metadata": {}
        }
      ],
      "source": [
        "plt.imshow(original_data[0, :, :, 0])\n"
      ]
    },
    {
      "cell_type": "markdown",
      "metadata": {
        "id": "Neovg7jzeGyQ"
      },
      "source": [
        "# Baseline"
      ]
    },
    {
      "cell_type": "code",
      "execution_count": null,
      "metadata": {
        "id": "sFn6gBX4Xr7_"
      },
      "outputs": [],
      "source": [
        "# Définition de la forme de l'entrée du modèle, qui est une image de 28x28 pixels\n",
        "inputs = keras.Input(shape=(28, 28), name=\"digits\")\n",
        "\n",
        "# Couche Dense avec 128 neurones et une fonction d'activation ReLU\n",
        "x1 = keras.layers.Dense(128, activation=\"relu\")(inputs)\n",
        "\n",
        "# Couche de sortie Dense avec 10 neurones (un pour chaque classe de chiffre)\n",
        "outputs = keras.layers.Dense(10, name=\"predictions\")(x1)\n",
        "\n",
        "# Création du modèle en spécifiant les entrées et les sorties\n",
        "model = keras.Model(inputs=inputs, outputs=outputs)\n"
      ]
    },
    {
      "cell_type": "code",
      "execution_count": null,
      "metadata": {
        "id": "a960ShGDbsop"
      },
      "outputs": [],
      "source": [
        "# Création d'un modèle séquentiel en spécifiant les couches dans l'ordre\n",
        "model = keras.Sequential([\n",
        "    # Couche Flatten pour convertir une image 28x28 en un vecteur unidimensionnel de taille 784\n",
        "    tf.keras.layers.Flatten(input_shape=(28, 28)),\n",
        "\n",
        "    # Couche Dense avec 128 neurones et une fonction d'activation ReLU\n",
        "    tf.keras.layers.Dense(128, activation='relu'),\n",
        "\n",
        "    # Couche Dense de sortie avec 10 neurones correspondant aux classes de chiffres\n",
        "    tf.keras.layers.Dense(10, name=\"classifier\")\n",
        "])\n"
      ]
    },
    {
      "cell_type": "code",
      "execution_count": null,
      "metadata": {
        "id": "eJtguCpGX8JO"
      },
      "outputs": [],
      "source": [
        "# Initialisation de l'optimiseur Adam\n",
        "optimizer = keras.optimizers.Adam()\n",
        "\n",
        "# Initialisation de la fonction de perte SparseCategoricalCrossentropy\n",
        "# from_logits=True indique que les sorties du modèle sont non normalisées (logits)\n",
        "loss_fn = keras.losses.SparseCategoricalCrossentropy(from_logits=True)\n",
        "\n",
        "# Initialisation de la métrique d'exactitude pour l'entraînement\n",
        "train_acc_metric = keras.metrics.SparseCategoricalAccuracy()\n",
        "\n",
        "# Initialisation de la métrique d'exactitude pour la validation\n",
        "val_acc_metric = keras.metrics.SparseCategoricalAccuracy()\n",
        "\n",
        "# Définition de la taille du lot (batch size) pour l'entraînement\n",
        "batch_size = 128"
      ]
    },
    {
      "cell_type": "code",
      "execution_count": null,
      "metadata": {
        "id": "WIfpIc2oYgh0"
      },
      "outputs": [],
      "source": [
        "labels_per_batch=10\n",
        "unlabels_per_batch=59\n",
        "all_x = None\n",
        "for i in range(int(100/labels_per_batch)):\n",
        "    # Si c'est la première itération, concaténer les données étiquetées, non étiquetées et augmentées\n",
        "    if all_x is None:\n",
        "        all_x = np.concatenate((x_train_labeled[i*labels_per_batch:i*labels_per_batch+labels_per_batch], x_train_unlabeled[i*unlabels_per_batch : i*unlabels_per_batch+unlabels_per_batch], x_train_augmented[i*unlabels_per_batch: i*unlabels_per_batch+unlabels_per_batch]))\n",
        "    # Pour les itérations suivantes, concaténer les données aux valeurs existantes dans all_x\n",
        "    else:\n",
        "        all_x = np.concatenate((all_x,x_train_labeled[i*labels_per_batch:i*labels_per_batch+labels_per_batch], x_train_unlabeled[i*unlabels_per_batch : i*unlabels_per_batch+unlabels_per_batch], x_train_augmented[i*unlabels_per_batch: i*unlabels_per_batch+unlabels_per_batch]))"
      ]
    },
    {
      "cell_type": "code",
      "execution_count": null,
      "metadata": {
        "colab": {
          "base_uri": "https://localhost:8080/"
        },
        "id": "KY1O4vZ-dVNm",
        "outputId": "f5d94ec7-9635-4694-c720-23e38e579750"
      },
      "outputs": [
        {
          "output_type": "execute_result",
          "data": {
            "text/plain": [
              "(1280, 28, 28, 1)"
            ]
          },
          "metadata": {},
          "execution_count": 32
        }
      ],
      "source": [
        "all_x.shape"
      ]
    },
    {
      "cell_type": "code",
      "execution_count": null,
      "metadata": {
        "id": "3JpHTH_LcWJd"
      },
      "outputs": [],
      "source": [
        "# Décoration de la fonction avec @tf.function pour la convertir en un graphe TensorFlow\n",
        "@tf.function\n",
        "def test_step(x, y):\n",
        "    # Évaluation des logits du modèle sur les données de test\n",
        "    val_logits = model(x, training=False)\n",
        "\n",
        "    # Mise à jour de la métrique d'exactitude pour les données de test\n",
        "    val_acc_metric.update_state(y, val_logits)\n"
      ]
    },
    {
      "cell_type": "code",
      "execution_count": null,
      "metadata": {
        "id": "zMBWC3G0ctWM"
      },
      "outputs": [],
      "source": [
        "# Création d'un ensemble de données à partir des données de test et de leurs étiquettes\n",
        "val_dataset = tf.data.Dataset.from_tensor_slices((x_test, y_test))\n",
        "\n",
        "# Division de l'ensemble de données en lots (batch) de taille 64\n",
        "val_dataset = val_dataset.batch(64)\n"
      ]
    },
    {
      "cell_type": "code",
      "execution_count": null,
      "metadata": {
        "colab": {
          "base_uri": "https://localhost:8080/"
        },
        "id": "pH8a26LvYI6_",
        "outputId": "70bbb58f-ad8e-4753-9908-1a538e1198c3"
      },
      "outputs": [
        {
          "output_type": "stream",
          "name": "stdout",
          "text": [
            "\n",
            "Début de l'époque 0\n",
            "Perte d'entraînement (pour un lot) à l'étape 0: 0.0125\n",
            "Échantillons vus jusqu'à présent : 128\n",
            "Exactitude d'entraînement sur l'époque : 1.0000\n",
            "\n",
            "Début de l'époque 1\n",
            "Perte d'entraînement (pour un lot) à l'étape 0: 0.0118\n",
            "Échantillons vus jusqu'à présent : 128\n",
            "Exactitude d'entraînement sur l'époque : 1.0000\n",
            "\n",
            "Début de l'époque 2\n",
            "Perte d'entraînement (pour un lot) à l'étape 0: 0.0111\n",
            "Échantillons vus jusqu'à présent : 128\n",
            "Exactitude d'entraînement sur l'époque : 1.0000\n",
            "\n",
            "Début de l'époque 3\n",
            "Perte d'entraînement (pour un lot) à l'étape 0: 0.0104\n",
            "Échantillons vus jusqu'à présent : 128\n",
            "Exactitude d'entraînement sur l'époque : 1.0000\n",
            "\n",
            "Début de l'époque 4\n",
            "Perte d'entraînement (pour un lot) à l'étape 0: 0.0098\n",
            "Échantillons vus jusqu'à présent : 128\n",
            "Exactitude d'entraînement sur l'époque : 1.0000\n",
            "\n",
            "Début de l'époque 5\n",
            "Perte d'entraînement (pour un lot) à l'étape 0: 0.0093\n",
            "Échantillons vus jusqu'à présent : 128\n",
            "Exactitude d'entraînement sur l'époque : 1.0000\n",
            "\n",
            "Début de l'époque 6\n",
            "Perte d'entraînement (pour un lot) à l'étape 0: 0.0088\n",
            "Échantillons vus jusqu'à présent : 128\n",
            "Exactitude d'entraînement sur l'époque : 1.0000\n",
            "\n",
            "Début de l'époque 7\n",
            "Perte d'entraînement (pour un lot) à l'étape 0: 0.0083\n",
            "Échantillons vus jusqu'à présent : 128\n",
            "Exactitude d'entraînement sur l'époque : 1.0000\n",
            "\n",
            "Début de l'époque 8\n",
            "Perte d'entraînement (pour un lot) à l'étape 0: 0.0079\n",
            "Échantillons vus jusqu'à présent : 128\n",
            "Exactitude d'entraînement sur l'époque : 1.0000\n",
            "\n",
            "Début de l'époque 9\n",
            "Perte d'entraînement (pour un lot) à l'étape 0: 0.0075\n",
            "Échantillons vus jusqu'à présent : 128\n",
            "Exactitude d'entraînement sur l'époque : 1.0000\n"
          ]
        }
      ],
      "source": [
        "import math\n",
        "\n",
        "# Nombre d'époques\n",
        "epochs = 10\n",
        "\n",
        "# Boucle sur les époques\n",
        "for epoch in range(epochs):\n",
        "    print(\"\\nDébut de l'époque %d\" % (epoch,))\n",
        "\n",
        "    # Itérer sur les lots (batches) de l'ensemble de données combiné (all_x)\n",
        "    for step in range(math.ceil(all_x.shape[0] / batch_size)):\n",
        "        # Extraire le lot d'images et d'étiquettes étiquetées\n",
        "        x_batch_train = all_x[step * batch_size:step * batch_size + labels_per_batch]\n",
        "        y_batch_train = y_train_labeled[step * labels_per_batch:step * labels_per_batch + labels_per_batch]\n",
        "\n",
        "        # Ouvrir une GradientTape pour enregistrer les opérations effectuées\n",
        "        # pendant la passe avant, ce qui permet l'autodifférenciation.\n",
        "        with tf.GradientTape() as tape:\n",
        "            # Exécuter la passe avant du modèle sur le lot.\n",
        "            # Les opérations appliquées aux entrées du modèle\n",
        "            # seront enregistrées sur la GradientTape.\n",
        "            logits = model(x_batch_train, training=True)  # Logits pour ce lot\n",
        "            # Calcul de la valeur de perte pour ce lot.\n",
        "            loss_value = loss_fn(y_batch_train, logits[:labels_per_batch])\n",
        "\n",
        "        # Utiliser la bande de gradient pour récupérer automatiquement\n",
        "        # les gradients des variables entraînables par rapport à la perte.\n",
        "        grads = tape.gradient(loss_value, model.trainable_weights)\n",
        "\n",
        "        # Exécuter une étape de descente de gradient en mettant à jour\n",
        "        # la valeur des variables pour minimiser la perte.\n",
        "        optimizer.apply_gradients(zip(grads, model.trainable_weights))\n",
        "\n",
        "        # Mettre à jour la métrique d'entraînement.\n",
        "        train_acc_metric.update_state(y_batch_train, logits[:labels_per_batch])\n",
        "\n",
        "        # Afficher les métriques toutes les 200 lots.\n",
        "        if step % 200 == 0:\n",
        "            print(\n",
        "                \"Perte d'entraînement (pour un lot) à l'étape %d: %.4f\"\n",
        "                % (step, float(loss_value))\n",
        "            )\n",
        "            print(\"Échantillons vus jusqu'à présent : %s\" % ((step + 1) * batch_size))\n",
        "\n",
        "    # Afficher les métriques à la fin de chaque époque.\n",
        "    train_acc = train_acc_metric.result()\n",
        "    print(\"Exactitude d'entraînement sur l'époque : %.4f\" % (float(train_acc),))\n",
        "\n",
        "    # Réinitialiser les métriques d'entraînement à la fin de chaque époque.\n",
        "    train_acc_metric.reset_states()\n"
      ]
    },
    {
      "cell_type": "code",
      "execution_count": null,
      "metadata": {
        "colab": {
          "base_uri": "https://localhost:8080/"
        },
        "id": "kUeE13HCcm1c",
        "outputId": "e616f70b-d947-4605-eb8d-e8b9127b0214"
      },
      "outputs": [
        {
          "output_type": "stream",
          "name": "stdout",
          "text": [
            "Exactitude de validation : 0.7063\n"
          ]
        }
      ],
      "source": [
        "# Itérer sur les lots de l'ensemble de données de validation\n",
        "for x_batch_val, y_batch_val in val_dataset:\n",
        "    # Exécuter la passe avant du modèle sur le lot de validation.\n",
        "    val_logits = model(x_batch_val, training=False)\n",
        "\n",
        "    # Mettre à jour les métriques de validation\n",
        "    val_acc_metric.update_state(y_batch_val, val_logits)\n",
        "\n",
        "# Calculer et afficher l'exactitude de validation à la fin de l'évaluation\n",
        "val_acc = val_acc_metric.result()\n",
        "val_acc_metric.reset_states()\n",
        "print(\"Exactitude de validation : %.4f\" % (float(val_acc),))\n"
      ]
    },
    {
      "cell_type": "markdown",
      "metadata": {
        "id": "IaztNgM9gBj-"
      },
      "source": [
        "# UDA Implementation"
      ]
    },
    {
      "cell_type": "code",
      "execution_count": null,
      "metadata": {
        "id": "-t_1pH5MgORE"
      },
      "outputs": [],
      "source": [
        "def _kl_divergence_with_logits(p_logits, q_logits):\n",
        "    # Calcul des distributions de probabilités à partir des logits\n",
        "    p = tf.nn.softmax(p_logits)        # Distribution de probabilité pour p\n",
        "    log_p = tf.nn.log_softmax(p_logits) # Logarithme de la softmax de p\n",
        "    log_q = tf.nn.log_softmax(q_logits) # Logarithme de la softmax de q\n",
        "\n",
        "    # Calcul de la divergence de Kullback-Leibler\n",
        "    kl = tf.reduce_sum(p * (log_p - log_q), -1)\n",
        "\n",
        "    return kl"
      ]
    },
    {
      "cell_type": "code",
      "execution_count": null,
      "metadata": {
        "id": "-5mnovqSa-Vz"
      },
      "outputs": [],
      "source": [
        "def get_ent(logits, return_mean=True):\n",
        "    # Calcul du logarithme de la softmax des logits\n",
        "    log_prob = tf.nn.log_softmax(logits, axis=-1)\n",
        "\n",
        "    # Calcul de la probabilité à partir du logarithme de la softmax\n",
        "    prob = tf.exp(log_prob)\n",
        "\n",
        "    # Calcul de l'entropie\n",
        "    ent = tf.reduce_sum(-prob * log_prob, axis=-1)\n",
        "\n",
        "    # Si return_mean est True, calculer la moyenne de l'entropie\n",
        "    if return_mean:\n",
        "        ent = tf.reduce_mean(ent)\n",
        "\n",
        "    return ent\n"
      ]
    },
    {
      "cell_type": "code",
      "execution_count": null,
      "metadata": {
        "id": "RGgYZnz_UsHy"
      },
      "outputs": [],
      "source": [
        "def get_tsa_threshold(schedule, global_step, num_train_steps, start, end):\n",
        "    # Calcul du ratio de l'étape globale par rapport au nombre total d'étapes d'entraînement\n",
        "    step_ratio = float(global_step) / float(num_train_steps)\n",
        "\n",
        "    # Sélection du calendrier (schedule) spécifié\n",
        "    if schedule == \"linear_schedule\":\n",
        "        # Calendrier linéaire\n",
        "        coeff = step_ratio\n",
        "    elif schedule == \"exp_schedule\":\n",
        "        # Calendrier exponentiel avec échelle 5\n",
        "        scale = 5\n",
        "        # [exp(-5), exp(0)] = [1e-2, 1]\n",
        "        coeff = tf.exp((step_ratio - 1) * scale)\n",
        "    elif schedule == \"log_schedule\":\n",
        "        # Calendrier logarithmique avec échelle 5\n",
        "        scale = 5\n",
        "        # [1 - exp(0), 1 - exp(-5)] = [0, 0.99]\n",
        "        coeff = 1 - tf.exp((-step_ratio) * scale)\n",
        "\n",
        "    # Calcul du seuil en fonction du calendrier spécifié\n",
        "    return coeff * (end - start) + start\n"
      ]
    },
    {
      "cell_type": "code",
      "execution_count": null,
      "metadata": {
        "id": "3Qgn7O0jUkF5"
      },
      "outputs": [],
      "source": [
        "def anneal_sup_loss(sup_logits, sup_labels, sup_loss, global_step, nbr_steps, num_classes, tsa_schedule):\n",
        "    # Définir le début du seuil TSA en fonction du nombre de classes\n",
        "    tsa_start = 1. / num_classes\n",
        "\n",
        "    # Obtenir le seuil effectif en utilisant la fonction get_tsa_threshold\n",
        "    eff_train_prob_threshold = get_tsa_threshold(\n",
        "        tsa_schedule, global_step, nbr_steps,\n",
        "        tsa_start, end=1)\n",
        "\n",
        "    # Convertir les étiquettes en one-hot encoding\n",
        "    one_hot_labels = tf.one_hot(\n",
        "        sup_labels, depth=num_classes, dtype=tf.float32)\n",
        "\n",
        "    # Calculer les probabilités de softmax pour les logits supervisés\n",
        "    sup_probs = tf.nn.softmax(sup_logits, axis=-1)\n",
        "\n",
        "    # Calculer les probabilités des étiquettes correctes\n",
        "    correct_label_probs = tf.reduce_sum(\n",
        "        one_hot_labels * sup_probs, axis=-1)\n",
        "\n",
        "    # Comparer les probabilités correctes avec le seuil effectif\n",
        "    larger_than_threshold = tf.greater(\n",
        "        correct_label_probs, eff_train_prob_threshold)\n",
        "\n",
        "    # Créer un masque de perte en fonction de la comparaison\n",
        "    loss_mask = 1 - tf.cast(larger_than_threshold, tf.float32)\n",
        "    loss_mask = tf.stop_gradient(loss_mask)\n",
        "\n",
        "    # Appliquer le masque à la perte supervisée\n",
        "    sup_loss = sup_loss * loss_mask\n",
        "\n",
        "    # Calculer la perte supervisée moyenne en tenant compte du masque\n",
        "    avg_sup_loss = (tf.reduce_sum(sup_loss) /\n",
        "                    tf.maximum(tf.reduce_sum(loss_mask), 1))\n",
        "\n",
        "    return sup_loss, avg_sup_loss\n"
      ]
    },
    {
      "cell_type": "code",
      "execution_count": null,
      "metadata": {
        "id": "bCYF7QA_qGHu"
      },
      "outputs": [],
      "source": [
        "import keras\n",
        "import copy\n",
        "\n",
        "def create_train(hyper, epochs=10, pretraining=False, verbose=False):\n",
        "\n",
        "    # Copie profonde des hyperparamètres pour éviter les modifications indésirables\n",
        "    hyper = copy.deepcopy(hyper)\n",
        "\n",
        "    # Définition de l'architecture du modèle\n",
        "    model = keras.Sequential([\n",
        "        tf.keras.layers.Flatten(input_shape=(28, 28)),\n",
        "        tf.keras.layers.Dense(256, activation='relu', kernel_regularizer=keras.regularizers.l2(hyper[\"l2\"]),\n",
        "                              # kernel_initializer=keras.initializers.he_normal\n",
        "                             ),\n",
        "        tf.keras.layers.Dropout(hyper[\"dropout\"]),\n",
        "        tf.keras.layers.Dense(128, activation='relu', kernel_regularizer=keras.regularizers.l2(hyper[\"l2\"]),\n",
        "                              # kernel_initializer=keras.initializers.he_normal\n",
        "                             ),\n",
        "        tf.keras.layers.Dropout(hyper[\"dropout\"]),\n",
        "        tf.keras.layers.Dense(10, name=\"classifier\")\n",
        "    ])\n",
        "\n",
        "    # Configuration des hyperparamètres pour l'entraînement\n",
        "    hyper[\"optimizer\"] = keras.optimizers.Adam()\n",
        "    hyper[\"loss_fn\"] = keras.losses.SparseCategoricalCrossentropy(from_logits=True)\n",
        "    hyper[\"train_acc_metric\"] = keras.metrics.SparseCategoricalAccuracy()\n",
        "    hyper[\"val_acc_metric\"] = keras.metrics.SparseCategoricalAccuracy()\n",
        "\n",
        "    # Création de l'ensemble de données de validation\n",
        "    val_dataset = tf.data.Dataset.from_tensor_slices((x_test, y_test))\n",
        "    val_dataset = val_dataset.batch(128)\n",
        "\n",
        "    # Entraînement préalable si spécifié\n",
        "    if pretraining:\n",
        "        print(\"Démarrage de l'entraînement préalable\")\n",
        "        pretrain(model, x_train_labeled, y_train_labeled, val_dataset, epochs)\n",
        "\n",
        "    # Entraînement principal\n",
        "    print(\"Démarrage de l'entraînement\")\n",
        "    train(model, x_train_labeled, original_data, augmented_data, val_dataset, hyper, epochs, verbose=verbose)\n"
      ]
    },
    {
      "cell_type": "code",
      "execution_count": null,
      "metadata": {
        "id": "tNSsWB_nqG-s"
      },
      "outputs": [],
      "source": [
        "def pretrain(model, x_train, y_train, val_dataset, epochs=10, verbose=False):\n",
        "    # Configuration de l'optimiseur, de la fonction de perte, et des métriques\n",
        "    model.compile(\n",
        "        optimizer=tf.keras.optimizers.Adam(),\n",
        "        loss=tf.keras.losses.SparseCategoricalCrossentropy(from_logits=True),\n",
        "        metrics=[tf.keras.metrics.SparseCategoricalAccuracy()],\n",
        "    )\n",
        "\n",
        "    # Entraînement du modèle sur les données étiquetées\n",
        "    model.fit(\n",
        "        x_train, y_train,\n",
        "        epochs=epochs,\n",
        "        validation_data=val_dataset,\n",
        "        verbose=0  # Utiliser verbose=1 pour afficher des détails d'entraînement pendant les époques\n",
        "    )\n",
        "\n",
        "    # Évaluation et affichage de la précision sur l'ensemble de validation après l'entraînement préalable\n",
        "    val_accuracy = model.evaluate(val_dataset, batch_size=128)[1]\n",
        "    print(\"Précision de validation après l'entraînement préalable: %.4f \\n\\n\" % val_accuracy)\n"
      ]
    },
    {
      "cell_type": "code",
      "execution_count": null,
      "metadata": {
        "id": "G8XnFzMxqMXq"
      },
      "outputs": [],
      "source": [
        "def train(model,x_train_labeled,original_data,augmented_data,val_dataset, hyper, epochs=10, verbose=False):\n",
        "\n",
        "    @tf.function\n",
        "    def test_step(x, y):\n",
        "        val_logits = model(x, training=False)\n",
        "        val_acc_metric.update_state(y, val_logits)\n",
        "\n",
        "    unlabels_per_batch = hyper[\"unlabels_per_batch\"]\n",
        "    batch_unique_labels = hyper[\"batch_unique_labels\"]\n",
        "    labels_per_batch = hyper[\"labels_per_batch\"]\n",
        "    hyper[\"labels_per_batch\"]\n",
        "\n",
        "    optimizer = hyper[\"optimizer\"]\n",
        "    loss_fn = hyper[\"loss_fn\"]\n",
        "    train_acc_metric = hyper[\"train_acc_metric\"]\n",
        "    val_acc_metric = hyper[\"val_acc_metric\"]\n",
        "    tsa_schedule = hyper[\"tsa_schedule\"]\n",
        "    num_classes = hyper[\"num_classes\"]\n",
        "    uda_softmax_temp = hyper[\"uda_softmax_temp\"]\n",
        "    uda_confidence_thresh = hyper[\"uda_confidence_thresh\"]\n",
        "    ent_min_coeff = hyper[\"ent_min_coeff\"]\n",
        "    lamd = hyper[\"lamd\"]\n",
        "    # Boucle principale sur les époques\n",
        "    for epoch in trange(epochs):\n",
        "        if(verbose):\n",
        "            print(\"\\nStart of epoch %d\" % (epoch,))\n",
        "        start_time = time.time()\n",
        "\n",
        "        # Itération sur les lots du jeu de données\n",
        "        for step in range(int(original_data.shape[0]/unlabels_per_batch)):\n",
        "            # Séparation des différents types d'images : supervisées, originales non étiquetées, augmentées non étiquetées\n",
        "            sup_images = x_train_labeled[int(step % batch_unique_labels)*labels_per_batch:int(step % batch_unique_labels)*labels_per_batch+labels_per_batch]\n",
        "            ori_images = original_data[step*unlabels_per_batch: step*unlabels_per_batch+unlabels_per_batch]\n",
        "            aug_images = augmented_data[step*unlabels_per_batch: step*unlabels_per_batch+unlabels_per_batch]\n",
        "\n",
        "            # Concaténation pour former le lot d'entraînement\n",
        "            x_batch_train = np.concatenate((sup_images, ori_images, aug_images))\n",
        "            y_batch_train = y_train_labeled[int(step % batch_unique_labels)*labels_per_batch:int(step % batch_unique_labels)*labels_per_batch+labels_per_batch]\n",
        "\n",
        "            # Utilisation de GradientTape pour enregistrer les opérations pendant la passe avant\n",
        "            with tf.GradientTape() as tape:\n",
        "                # Passe avant pour obtenir les logits\n",
        "                logits = model(x_batch_train, training=True)\n",
        "                # Extraction des logits pour les exemples supervisés\n",
        "                sup_logits = logits[:labels_per_batch]\n",
        "                # Calcul de la perte supervisée\n",
        "                sup_loss = loss_fn(y_batch_train, sup_logits)\n",
        "\n",
        "                # Utilisation de la perte TSA si spécifiée\n",
        "                if tsa_schedule:\n",
        "                    sup_loss, avg_sup_loss = anneal_sup_loss(sup_logits, y_batch_train, sup_loss, epoch, epochs, num_classes, tsa_schedule)\n",
        "                else:\n",
        "                    avg_sup_loss = tf.reduce_mean(sup_loss)\n",
        "                total_loss = avg_sup_loss\n",
        "\n",
        "                # Calcul de la perte à partir des données non étiquetées\n",
        "\n",
        "                # Logits des images non étiquetées réelles\n",
        "                ori_logits = logits[labels_per_batch: labels_per_batch + unlabels_per_batch]\n",
        "                # Logits des images non étiquetées augmentées\n",
        "                aug_logits = logits[labels_per_batch + unlabels_per_batch:]\n",
        "\n",
        "                # Ajustement des prédictions avec un softmax tempéré si spécifié\n",
        "                if uda_softmax_temp != -1:\n",
        "                    ori_logits_tgt = ori_logits / uda_softmax_temp\n",
        "                else:\n",
        "                    ori_logits_tgt = ori_logits\n",
        "\n",
        "                # calcul de KL divergence\n",
        "                aug_loss = _kl_divergence_with_logits(\n",
        "                    p_logits=tf.stop_gradient(ori_logits_tgt),\n",
        "                    q_logits=aug_logits)\n",
        "\n",
        "                if uda_confidence_thresh != -1:\n",
        "                    ori_prob = tf.nn.softmax(ori_logits, axis=-1)\n",
        "                    largest_prob = tf.reduce_max(ori_prob, axis=-1)\n",
        "                    loss_mask = tf.cast(tf.greater(\n",
        "                        largest_prob, uda_confidence_thresh), tf.float32)\n",
        "                    loss_mask = tf.stop_gradient(loss_mask)\n",
        "                    aug_loss = aug_loss * loss_mask\n",
        "\n",
        "                if ent_min_coeff > 0:\n",
        "                    per_example_ent = get_ent(ori_logits)\n",
        "                    ent_min_loss = tf.reduce_mean(per_example_ent)\n",
        "                    total_loss = total_loss + ent_min_coeff * ent_min_loss\n",
        "\n",
        "                avg_unsup_loss = tf.reduce_mean(aug_loss)\n",
        "\n",
        "                total_loss += lamd * avg_unsup_loss\n",
        "\n",
        "\n",
        "            # Utilisation de GradientTape pour récupérer automatiquement\n",
        "            # les gradients des variables entraînables par rapport à la perte\n",
        "            grads = tape.gradient(total_loss, model.trainable_weights)\n",
        "\n",
        "            # Exécution d'une étape de descente de gradient en mettant à jour\n",
        "            # les valeurs des variables pour minimiser la perte\n",
        "            optimizer.apply_gradients(zip(grads, model.trainable_weights))\n",
        "\n",
        "            # Mise à jour de la métrique d'entraînement\n",
        "            train_acc_metric.update_state(y_batch_train, logits[:labels_per_batch])\n",
        "\n",
        "            if verbose:\n",
        "                if step % 50 == 0:\n",
        "                    print(\n",
        "                        \"Training loss (for one batch) at step %d: %.4f\"\n",
        "                        % (step, float(total_loss))\n",
        "                    )\n",
        "                    print(\"Seen so far: %s samples\" % ((step + 1) * batch_size))\n",
        "\n",
        "        # Affichages des métriques à chaque fin d'itération\n",
        "        train_acc = train_acc_metric.result()\n",
        "        print(\"Training acc over epoch: %.4f\" % (float(train_acc),))\n",
        "\n",
        "        train_acc_metric.reset_states()\n",
        "\n",
        "        for x_batch_val, y_batch_val in val_dataset:\n",
        "            test_step(x_batch_val, y_batch_val)\n",
        "\n",
        "        val_acc = val_acc_metric.result()\n",
        "        val_acc_metric.reset_states()\n",
        "        print(\"Validation acc: %.4f\" % (float(val_acc),))\n",
        "        if verbose:\n",
        "            print(\"Time taken: %.2fs \\n\" % (time.time() - start_time))\n",
        "    return float(val_acc)"
      ]
    },
    {
      "cell_type": "code",
      "execution_count": null,
      "metadata": {
        "id": "WlWKPDuT1yr4"
      },
      "outputs": [],
      "source": [
        "val_dataset = tf.data.Dataset.from_tensor_slices((x_test, y_test))\n",
        "val_dataset = val_dataset.batch(128)"
      ]
    },
    {
      "cell_type": "code",
      "execution_count": null,
      "metadata": {
        "id": "zZVTyyvYqPVu"
      },
      "outputs": [],
      "source": [
        "labels_per_batch = 50\n",
        "batch_size = 128\n",
        "\n",
        "hyper = {\n",
        "    \"labels_per_batch\":labels_per_batch,\n",
        "    \"batch_size\" : batch_size,\n",
        "    \"batch_unique_labels\":100/labels_per_batch,\n",
        "    \"unlabels_per_batch\":int((batch_size-labels_per_batch)/2),\n",
        "    \"nbr_batch\" : 100,\n",
        "    \"lamd\" : 1,\n",
        "    \"tsa_schedule\":\"exp_schedule\",\n",
        "    # tsa_schedule=\"\"\n",
        "    \"num_classes\" : 10,\n",
        "    \"uda_softmax_temp\" : 0.9,\n",
        "    \"uda_confidence_thresh\" : 0.8,\n",
        "    \"ent_min_coeff\" : 0.5,\n",
        "\n",
        "    \"num_classes\" : 10,\n",
        "    \"decay_steps\" : 1000,\n",
        "    \"moving_average_decay\":0.9999,\n",
        "    \"initial_learning_rate\":1e-2,\n",
        "    \"dropout\":0.8,\n",
        "    \"l2\": 0.1\n",
        "}"
      ]
    },
    {
      "cell_type": "code",
      "execution_count": null,
      "metadata": {
        "colab": {
          "base_uri": "https://localhost:8080/"
        },
        "id": "tHYqopfXqQie",
        "outputId": "2147457c-950c-4420-db2f-fefe7b557e82"
      },
      "outputs": [
        {
          "output_type": "stream",
          "name": "stdout",
          "text": [
            "Démarrage de l'entraînement\n"
          ]
        },
        {
          "output_type": "stream",
          "name": "stderr",
          "text": [
            "\r  0%|          | 0/10 [00:00<?, ?it/s]"
          ]
        },
        {
          "output_type": "stream",
          "name": "stdout",
          "text": [
            "Training acc over epoch: 0.6930\n"
          ]
        },
        {
          "output_type": "stream",
          "name": "stderr",
          "text": [
            "\r 10%|█         | 1/10 [00:35<05:15, 35.06s/it]"
          ]
        },
        {
          "output_type": "stream",
          "name": "stdout",
          "text": [
            "Validation acc: 0.7486\n",
            "Training acc over epoch: 0.9131\n"
          ]
        },
        {
          "output_type": "stream",
          "name": "stderr",
          "text": [
            "\r 20%|██        | 2/10 [01:08<04:33, 34.24s/it]"
          ]
        },
        {
          "output_type": "stream",
          "name": "stdout",
          "text": [
            "Validation acc: 0.7794\n",
            "Training acc over epoch: 0.9338\n"
          ]
        },
        {
          "output_type": "stream",
          "name": "stderr",
          "text": [
            "\r 30%|███       | 3/10 [01:43<04:01, 34.51s/it]"
          ]
        },
        {
          "output_type": "stream",
          "name": "stdout",
          "text": [
            "Validation acc: 0.7877\n",
            "Training acc over epoch: 0.9454\n"
          ]
        },
        {
          "output_type": "stream",
          "name": "stderr",
          "text": [
            "\r 40%|████      | 4/10 [02:18<03:28, 34.70s/it]"
          ]
        },
        {
          "output_type": "stream",
          "name": "stdout",
          "text": [
            "Validation acc: 0.7878\n",
            "Training acc over epoch: 0.9498\n"
          ]
        },
        {
          "output_type": "stream",
          "name": "stderr",
          "text": [
            "\r 50%|█████     | 5/10 [02:53<02:53, 34.74s/it]"
          ]
        },
        {
          "output_type": "stream",
          "name": "stdout",
          "text": [
            "Validation acc: 0.8111\n",
            "Training acc over epoch: 0.9567\n"
          ]
        },
        {
          "output_type": "stream",
          "name": "stderr",
          "text": [
            "\r 60%|██████    | 6/10 [03:28<02:19, 34.93s/it]"
          ]
        },
        {
          "output_type": "stream",
          "name": "stdout",
          "text": [
            "Validation acc: 0.8339\n",
            "Training acc over epoch: 0.9625\n"
          ]
        },
        {
          "output_type": "stream",
          "name": "stderr",
          "text": [
            "\r 70%|███████   | 7/10 [04:03<01:44, 34.77s/it]"
          ]
        },
        {
          "output_type": "stream",
          "name": "stdout",
          "text": [
            "Validation acc: 0.8321\n",
            "Training acc over epoch: 0.9661\n"
          ]
        },
        {
          "output_type": "stream",
          "name": "stderr",
          "text": [
            "\r 80%|████████  | 8/10 [04:37<01:09, 34.60s/it]"
          ]
        },
        {
          "output_type": "stream",
          "name": "stdout",
          "text": [
            "Validation acc: 0.8339\n",
            "Training acc over epoch: 0.9716\n"
          ]
        },
        {
          "output_type": "stream",
          "name": "stderr",
          "text": [
            "\r 90%|█████████ | 9/10 [05:11<00:34, 34.31s/it]"
          ]
        },
        {
          "output_type": "stream",
          "name": "stdout",
          "text": [
            "Validation acc: 0.8411\n",
            "Training acc over epoch: 0.9728\n"
          ]
        },
        {
          "output_type": "stream",
          "name": "stderr",
          "text": [
            "100%|██████████| 10/10 [05:45<00:00, 34.59s/it]"
          ]
        },
        {
          "output_type": "stream",
          "name": "stdout",
          "text": [
            "Validation acc: 0.8404\n"
          ]
        },
        {
          "output_type": "stream",
          "name": "stderr",
          "text": [
            "\n"
          ]
        }
      ],
      "source": [
        "create_train(hyper, epochs=10, pretraining=False, verbose=False)"
      ]
    }
  ],
  "metadata": {
    "colab": {
      "collapsed_sections": [
        "N0n-M1Xpd-fl",
        "yO8OPXjJgFE3"
      ],
      "provenance": []
    },
    "kernelspec": {
      "display_name": "default:Python",
      "language": "python",
      "name": "conda-env-default-py"
    },
    "language_info": {
      "codemirror_mode": {
        "name": "ipython",
        "version": 3
      },
      "file_extension": ".py",
      "mimetype": "text/x-python",
      "name": "python",
      "nbconvert_exporter": "python",
      "pygments_lexer": "ipython3",
      "version": "3.9.7"
    }
  },
  "nbformat": 4,
  "nbformat_minor": 0
}